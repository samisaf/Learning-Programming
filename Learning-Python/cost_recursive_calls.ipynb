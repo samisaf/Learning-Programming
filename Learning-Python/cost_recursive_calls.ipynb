{
 "cells": [
  {
   "cell_type": "code",
   "execution_count": 8,
   "metadata": {
    "collapsed": false
   },
   "outputs": [],
   "source": [
    "from cost_recursive_calls import *"
   ]
  },
  {
   "cell_type": "code",
   "execution_count": 9,
   "metadata": {
    "collapsed": false
   },
   "outputs": [
    {
     "name": "stdout",
     "output_type": "stream",
     "text": [
      " fibs(5)\n",
      ". fibs(4)\n",
      ".. fibs(3)\n",
      "... fibs(2)\n",
      ".... fibs(1)\n",
      ".... fibs(0)\n",
      "... fibs(1)\n",
      ".. fibs(2)\n",
      "... fibs(1)\n",
      "... fibs(0)\n",
      ". fibs(3)\n",
      ".. fibs(2)\n",
      "... fibs(1)\n",
      "... fibs(0)\n",
      ".. fibs(1)\n"
     ]
    },
    {
     "data": {
      "text/plain": [
       "5"
      ]
     },
     "execution_count": 9,
     "metadata": {},
     "output_type": "execute_result"
    }
   ],
   "source": [
    "fibs(5)"
   ]
  },
  {
   "cell_type": "code",
   "execution_count": 16,
   "metadata": {
    "collapsed": false
   },
   "outputs": [
    {
     "name": "stdout",
     "output_type": "stream",
     "text": [
      " fibs(5)\n",
      ". fibs(4)\n",
      ".. fibs(3)\n",
      "... fibs(2)\n",
      ".... fibs(1)\n",
      ".... fibs(0)\n",
      "... fibs(1)\n",
      ".. fibs(2)\n",
      "... fibs(1)\n",
      "... fibs(0)\n",
      ". fibs(3)\n",
      ".. fibs(2)\n",
      "... fibs(1)\n",
      "... fibs(0)\n",
      ".. fibs(1)\n"
     ]
    },
    {
     "data": {
      "text/plain": [
       "5"
      ]
     },
     "execution_count": 16,
     "metadata": {},
     "output_type": "execute_result"
    }
   ],
   "source": [
    "memoize(fibs)(5)"
   ]
  },
  {
   "cell_type": "code",
   "execution_count": 17,
   "metadata": {
    "collapsed": false
   },
   "outputs": [
    {
     "name": "stdout",
     "output_type": "stream",
     "text": [
      " minchange(7)\n",
      ". minchange(6)\n",
      ".. minchange(5)\n",
      "... minchange(4)\n",
      ".... minchange(3)\n",
      "..... minchange(2)\n",
      "...... minchange(1)\n",
      "... minchange(0)\n",
      ".. minchange(1)\n",
      ". minchange(2)\n",
      ".. minchange(1)\n"
     ]
    },
    {
     "data": {
      "text/plain": [
       "3"
      ]
     },
     "execution_count": 17,
     "metadata": {},
     "output_type": "execute_result"
    }
   ],
   "source": [
    "minchange(7)"
   ]
  },
  {
   "cell_type": "code",
   "execution_count": 15,
   "metadata": {
    "collapsed": false
   },
   "outputs": [
    {
     "name": "stdout",
     "output_type": "stream",
     "text": [
      " minchange(7)\n",
      ". minchange(6)\n",
      ".. minchange(5)\n",
      "... minchange(4)\n",
      ".... minchange(3)\n",
      "..... minchange(2)\n",
      "...... minchange(1)\n",
      "... minchange(0)\n",
      ".. minchange(1)\n",
      ". minchange(2)\n",
      ".. minchange(1)\n"
     ]
    },
    {
     "data": {
      "text/plain": [
       "3"
      ]
     },
     "execution_count": 15,
     "metadata": {},
     "output_type": "execute_result"
    }
   ],
   "source": [
    "memoize(minchange)(7)"
   ]
  },
  {
   "cell_type": "code",
   "execution_count": null,
   "metadata": {
    "collapsed": true
   },
   "outputs": [],
   "source": []
  }
 ],
 "metadata": {
  "kernelspec": {
   "display_name": "Python 3",
   "language": "python",
   "name": "python3"
  },
  "language_info": {
   "codemirror_mode": {
    "name": "ipython",
    "version": 3
   },
   "file_extension": ".py",
   "mimetype": "text/x-python",
   "name": "python",
   "nbconvert_exporter": "python",
   "pygments_lexer": "ipython3",
   "version": "3.5.1"
  }
 },
 "nbformat": 4,
 "nbformat_minor": 0
}
