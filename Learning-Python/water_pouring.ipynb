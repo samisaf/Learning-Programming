{
 "cells": [
  {
   "cell_type": "markdown",
   "metadata": {},
   "source": [
    "# Water Pouring Problem\n",
    "The following script implements a solution to the 'water pouring problem' as presented in unit 4 in the udacity design of computer programs course.\n",
    "\n",
    "## Problem statement:\n",
    "- We have two glasses of water, a faucet, and a sink. \n",
    "- We can have as much water as we want from the faucet, and drain as much as we want into the sink.\n",
    "- The glasses are of different sizes (for example 4 oz and 9 oz).\n",
    "- The goal is to measure out a specific amount of water (for example 6 oz), ie, at the end want to have one of the glasses glass filled with exactly 6 oz of water.\n",
    "\n",
    "## Constraints:\n",
    "Glass level, and capacity are integers, level < capacity. Goal is an integer smaller than the capacities.\n",
    "\n",
    "## Inventory of concepts:\n",
    "- A glass, (level, capacity), a tuple with two integers representing current level and total capacity.\n",
    "- A state, (glass1, glass2), a tuple of two glasses\n",
    "- An action, function(glass(es)) -> glass(es), 3 actions are possible empty a glass, fill a glass, or transfer content from one glass to another\n",
    "- Successors, function(state) -> dictionary of states that are possible after applying all potential actions to the glasses "
   ]
  },
  {
   "cell_type": "code",
   "execution_count": 1,
   "metadata": {
    "collapsed": true
   },
   "outputs": [],
   "source": [
    "from collections import namedtuple\n",
    "\n",
    "Glass = namedtuple('Glass', ['level', 'capacity']) # A glass has a current level and a capacity\n",
    "State = namedtuple('State', ['G1', 'G2']) # A state repreents two glasses\n",
    "\n",
    "def empty(glass):\n",
    "    return Glass(0, glass.capacity)\n",
    "\n",
    "def fill(glass):\n",
    "    return Glass(glass.capacity, glass.capacity)\n",
    "    \n",
    "def transfer(from_glass, to_glass):\n",
    "    amount = from_glass.level\n",
    "    space = to_glass.capacity - to_glass.level\n",
    "    if amount <= space:\n",
    "        return empty(from_glass), Glass(to_glass.level + amount, to_glass.capacity)\n",
    "    else:\n",
    "        return Glass(amount - space, from_glass.capacity), fill(to_glass)\n",
    "\n",
    "def is_goal(states, goal_level):\n",
    "    for (glass1, glass2) in states:\n",
    "        if glass1.level == goal_level or glass2.level == goal_level:\n",
    "            return True\n",
    "    return False\n",
    "    \n",
    "def successors(state):\n",
    "    result = {}\n",
    "    g1, g2 = state[0], state[1]\n",
    "    result[(empty(g1), g2)] = 'Empty Glass One'\n",
    "    result[(g1, empty(g2))] = 'Empty Glass Two'\n",
    "    result[(fill(g1), g2)] = 'Fill Glass One'\n",
    "    result[(g1, fill(g2))] = 'Fill Glass Two'\n",
    "    result[(transfer(g1, g2))] = 'Transfer One -> Two'\n",
    "    result[(transfer(g2, g1)[1], transfer(g2, g1)[0])] = 'Transfer Two -> One' # to maintain the order of glasses\n",
    "    return result\n",
    "\n",
    "def search(start_state: State, goal: int):\n",
    "    if is_goal((start_state,), goal): return {start_state}\n",
    "    explored = set()\n",
    "    fringe = [[start_state]] # ordered list of paths that we followed\n",
    "    while fringe:\n",
    "        path = fringe.pop()\n",
    "        last_state = path[-1] # start witht he last state in a path\n",
    "        for newstate, newaction in successors(last_state).items():\n",
    "            if not newstate in explored:\n",
    "                explored.add(newstate)\n",
    "                newpath = path + [newaction, newstate]\n",
    "                if is_goal((newstate, ), goal): \n",
    "                    return newpath\n",
    "                else:\n",
    "                    fringe.append(newpath)\n",
    "    return []\n",
    "\n",
    "def solve(capacity1: int, capacity2:int , goal: int):\n",
    "    assert goal <= capacity1 or goal <=capacity2\n",
    "    g1 = Glass(0, capacity1)\n",
    "    g2 = Glass(0, capacity2)\n",
    "    state0 = (g1, g2)\n",
    "    return search(state0, goal)\n",
    "\n",
    "def printsolution(solution: list):\n",
    "    if solution:\n",
    "        for i in range(0, len(solution) - 1, 2):\n",
    "            print(\"{} \\t{} =>\".format(solution[i], solution[i+1]))\n",
    "        print(\"{} \\tDone\".format(solution[-1]))\n",
    "    else: \n",
    "        print(\"No solution is available\")"
   ]
  },
  {
   "cell_type": "code",
   "execution_count": 2,
   "metadata": {
    "collapsed": false
   },
   "outputs": [
    {
     "name": "stdout",
     "output_type": "stream",
     "text": [
      "(Glass(level=0, capacity=4), Glass(level=0, capacity=9)) \tFill Glass Two =>\n",
      "(Glass(level=0, capacity=4), Glass(level=9, capacity=9)) \tTransfer Two -> One =>\n",
      "(Glass(level=4, capacity=4), Glass(level=5, capacity=9)) \tEmpty Glass One =>\n",
      "(Glass(level=0, capacity=4), Glass(level=5, capacity=9)) \tTransfer Two -> One =>\n",
      "(Glass(level=4, capacity=4), Glass(level=1, capacity=9)) \tEmpty Glass One =>\n",
      "(Glass(level=0, capacity=4), Glass(level=1, capacity=9)) \tTransfer Two -> One =>\n",
      "(Glass(level=1, capacity=4), Glass(level=0, capacity=9)) \tFill Glass Two =>\n",
      "(Glass(level=1, capacity=4), Glass(level=9, capacity=9)) \tTransfer Two -> One =>\n",
      "(Glass(level=4, capacity=4), Glass(level=6, capacity=9)) \tDone\n"
     ]
    }
   ],
   "source": [
    "printsolution(solve(4, 9, 6))"
   ]
  },
  {
   "cell_type": "code",
   "execution_count": 3,
   "metadata": {
    "collapsed": false
   },
   "outputs": [
    {
     "name": "stdout",
     "output_type": "stream",
     "text": [
      "No solution is available\n"
     ]
    }
   ],
   "source": [
    "printsolution(solve(4, 8, 6))"
   ]
  },
  {
   "cell_type": "code",
   "execution_count": 4,
   "metadata": {
    "collapsed": false
   },
   "outputs": [
    {
     "name": "stdout",
     "output_type": "stream",
     "text": [
      "(Glass(level=0, capacity=9), Glass(level=0, capacity=8)) \tFill Glass One =>\n",
      "(Glass(level=9, capacity=9), Glass(level=0, capacity=8)) \tTransfer One -> Two =>\n",
      "(Glass(level=1, capacity=9), Glass(level=8, capacity=8)) \tDone\n"
     ]
    }
   ],
   "source": [
    "printsolution(solve(9, 8, 1))"
   ]
  }
 ],
 "metadata": {
  "kernelspec": {
   "display_name": "Python 3",
   "language": "python",
   "name": "python3"
  },
  "language_info": {
   "codemirror_mode": {
    "name": "ipython",
    "version": 3
   },
   "file_extension": ".py",
   "mimetype": "text/x-python",
   "name": "python",
   "nbconvert_exporter": "python",
   "pygments_lexer": "ipython3",
   "version": "3.5.1"
  }
 },
 "nbformat": 4,
 "nbformat_minor": 0
}
